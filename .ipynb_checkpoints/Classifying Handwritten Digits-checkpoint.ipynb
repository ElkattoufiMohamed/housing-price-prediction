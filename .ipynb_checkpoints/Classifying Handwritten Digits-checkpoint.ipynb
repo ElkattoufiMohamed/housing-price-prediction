{
 "cells": [
  {
   "cell_type": "code",
   "execution_count": 3,
   "id": "57f21be0-f0b3-4f6b-ad3a-e1e90584d5cc",
   "metadata": {},
   "outputs": [],
   "source": [
    "import tensorflow as tf\n",
    "from tensorflow.keras.models import Sequential\n",
    "from tensorflow.keras.layers import Dense, Flatten, Conv2D, MaxPooling2D\n",
    "from tensorflow.keras.datasets import mnist\n",
    "import matplotlib.pyplot as plt\n",
    "import numpy as np"
   ]
  },
  {
   "cell_type": "code",
   "execution_count": 9,
   "id": "455ae41c-66a3-4af6-ad91-1f7e5be464f9",
   "metadata": {},
   "outputs": [
    {
     "name": "stdout",
     "output_type": "stream",
     "text": [
      "Training Data Shape: (60000, 28, 28, 1)\n",
      "Test Data Shape: (10000, 28, 28, 1)\n"
     ]
    }
   ],
   "source": [
    "# Load the mnist Dataset\n",
    "(X_train, y_train), (X_test, y_test) = mnist.load_data()\n",
    "\n",
    "#Data preprocessing \n",
    "# Add a Channel Dimension for CNNs (1 for grayscale)\n",
    "\n",
    "X_train = X_train.reshape((X_train.shape[0], 28, 28, 1))\n",
    "X_test = X_test.reshape((X_test.shape[0], 28, 28, 1))\n",
    "\n",
    "# Normalize the pixels values from 0-255 to 0-1\n",
    "\n",
    "X_train = X_train.astype('float32') / 255.0\n",
    "X_test = X_test.astype('float32') / 255.0\n",
    "\n",
    "print('Training Data Shape: {}'.format(X_train.shape))\n",
    "print('Test Data Shape: {}'.format(X_test.shape))\n"
   ]
  },
  {
   "cell_type": "code",
   "execution_count": 18,
   "id": "51e4f1e6-8bc1-4a75-a7cd-566801d742c5",
   "metadata": {},
   "outputs": [
    {
     "data": {
      "image/png": "[encoded data removed]",
      "text/plain": [
       "<Figure size 640x480 with 1 Axes>"
      ]
     },
     "metadata": {},
     "output_type": "display_data"
    }
   ],
   "source": [
    "# Display the first image\n",
    "\n",
    "plt.imshow(X_train[15].squeeze(), cmap='gray')\n",
    "plt.title('Lable: {}'.format(y_train[15]))\n",
    "plt.show()"
   ]
  },
  {
   "cell_type": "code",
   "execution_count": 21,
   "id": "b7a29a37-2557-4858-8f73-429b818c8545",
   "metadata": {},
   "outputs": [],
   "source": [
    "model = Sequential([\n",
    "    # Concolutional Layer: Extract features \n",
    "    Conv2D(32, (3, 3), activation='relu', input_shape=(28, 28, 1)),\n",
    "\n",
    "    # Pooling layer: reduce spatial dimension, which help prevent overfitting\n",
    "    MaxPooling2D((2,2)),\n",
    "\n",
    "    # Another Set of Conv and Pooling Layer to extract more complex features \n",
    "    Conv2D(64 ,(3, 3), activation='relu'),\n",
    "    MaxPooling2D((2, 2)),\n",
    "\n",
    "    # Flatten the 2D feature maps into 1D vector\n",
    "    Flatten(),\n",
    "\n",
    "    # Dense (Fully connected) layers\n",
    "    Dense(64, activation='relu'),\n",
    "\n",
    "    # Output layer: Has 10  neuron, one for each digit (0-9)\n",
    "    Dense(10, activation='softmax')\n",
    "])"
   ]
  },
  {
   "cell_type": "code",
   "execution_count": 24,
   "id": "503f7acc-6ba7-49e7-9ecd-f436344925ec",
   "metadata": {},
   "outputs": [
    {
     "name": "stdout",
     "output_type": "stream",
     "text": [
      "Epoch 1/5\n",
      "\u001b[1m1688/1688\u001b[0m \u001b[32m━━━━━━━━━━━━━━━━━━━━\u001b[0m\u001b[37m\u001b[0m \u001b[1m28s\u001b[0m 15ms/step - accuracy: 0.9552 - loss: 0.1488 - val_accuracy: 0.9820 - val_loss: 0.0638\n",
      "Epoch 2/5\n",
      "\u001b[1m1688/1688\u001b[0m \u001b[32m━━━━━━━━━━━━━━━━━━━━\u001b[0m\u001b[37m\u001b[0m \u001b[1m24s\u001b[0m 14ms/step - accuracy: 0.9842 - loss: 0.0496 - val_accuracy: 0.9883 - val_loss: 0.0388\n",
      "Epoch 3/5\n",
      "\u001b[1m1688/1688\u001b[0m \u001b[32m━━━━━━━━━━━━━━━━━━━━\u001b[0m\u001b[37m\u001b[0m \u001b[1m24s\u001b[0m 14ms/step - accuracy: 0.9891 - loss: 0.0340 - val_accuracy: 0.9895 - val_loss: 0.0342\n",
      "Epoch 4/5\n",
      "\u001b[1m1688/1688\u001b[0m \u001b[32m━━━━━━━━━━━━━━━━━━━━\u001b[0m\u001b[37m\u001b[0m \u001b[1m25s\u001b[0m 15ms/step - accuracy: 0.9918 - loss: 0.0254 - val_accuracy: 0.9922 - val_loss: 0.0265\n",
      "Epoch 5/5\n",
      "\u001b[1m1688/1688\u001b[0m \u001b[32m━━━━━━━━━━━━━━━━━━━━\u001b[0m\u001b[37m\u001b[0m \u001b[1m24s\u001b[0m 14ms/step - accuracy: 0.9943 - loss: 0.0181 - val_accuracy: 0.9915 - val_loss: 0.0313\n"
     ]
    }
   ],
   "source": [
    "model.compile(optimizer='adam',\n",
    "              loss='sparse_categorical_crossentropy',\n",
    "              metrics=['accuracy'])\n",
    "\n",
    "# Train the Model\n",
    "history = model.fit(X_train, y_train, epochs=5, validation_split=0.1)"
   ]
  },
  {
   "cell_type": "code",
   "execution_count": 25,
   "id": "b6da0130-0cc4-451b-ada9-c4e477a429b2",
   "metadata": {},
   "outputs": [
    {
     "name": "stdout",
     "output_type": "stream",
     "text": [
      "313/313 - 2s - 6ms/step - accuracy: 0.9909 - loss: 0.0296\n",
      "Test Accuracy: 0.9909\n"
     ]
    }
   ],
   "source": [
    "# Evaluate teh model\n",
    "test_loss, test_acc = model.evaluate(X_test, y_test, verbose=2)\n",
    "print('Test Accuracy: {:.4f}'.format(test_acc))"
   ]
  }
 ],
 "metadata": {
  "kernelspec": {
   "display_name": "Python 3 (ipykernel)",
   "language": "python",
   "name": "python3"
  },
  "language_info": {
   "codemirror_mode": {
    "name": "ipython",
    "version": 3
   },
   "file_extension": ".py",
   "mimetype": "text/x-python",
   "name": "python",
   "nbconvert_exporter": "python",
   "pygments_lexer": "ipython3",
   "version": "3.13.5"
  }
 },
 "nbformat": 4,
 "nbformat_minor": 5
}
