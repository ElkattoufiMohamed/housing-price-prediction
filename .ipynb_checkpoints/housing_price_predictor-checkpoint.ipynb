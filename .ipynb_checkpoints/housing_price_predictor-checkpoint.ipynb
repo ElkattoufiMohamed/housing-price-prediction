{
 "cells": [
  {
   "cell_type": "code",
   "execution_count": null,
   "id": "739a0c7a-db28-4f1b-99f5-d475634be1f2",
   "metadata": {},
   "outputs": [],
   "source": [
    "import pandas as pd \n",
    "import matplotlib.pyplot as plt\n",
    "import seaborn as sns \n",
    "from sklearn.model_selection import train_test_split\n",
    "from sklearn.linear_model import LinearRegression\n",
    "from sklearn.metrics import mean_squared_error, r2_score\n",
    "from sklearn.datasets import fetch_california_housing"
   ]
  },
  {
   "cell_type": "code",
   "execution_count": 18,
   "id": "6c6fce89-59cd-45b1-b4f3-866479b0b161",
   "metadata": {},
   "outputs": [
    {
     "name": "stdout",
     "output_type": "stream",
     "text": [
      "Visualising the first values of out dataframe:\n",
      "   MedInc  HouseAge  AveRooms  AveBedrms  Population  AveOccup  Latitude  \\\n",
      "0  8.3252      41.0  6.984127   1.023810       322.0  2.555556     37.88   \n",
      "1  8.3014      21.0  6.238137   0.971880      2401.0  2.109842     37.86   \n",
      "2  7.2574      52.0  8.288136   1.073446       496.0  2.802260     37.85   \n",
      "3  5.6431      52.0  5.817352   1.073059       558.0  2.547945     37.85   \n",
      "4  3.8462      52.0  6.281853   1.081081       565.0  2.181467     37.85   \n",
      "\n",
      "   Longitude  MedHouseVal  target  \n",
      "0    -122.23        4.526   4.526  \n",
      "1    -122.22        3.585   3.585  \n",
      "2    -122.24        3.521   3.521  \n",
      "3    -122.25        3.413   3.413  \n",
      "4    -122.25        3.422   3.422  \n",
      "Checking if there is any missing values:\n",
      "MedInc         0\n",
      "HouseAge       0\n",
      "AveRooms       0\n",
      "AveBedrms      0\n",
      "Population     0\n",
      "AveOccup       0\n",
      "Latitude       0\n",
      "Longitude      0\n",
      "MedHouseVal    0\n",
      "target         0\n",
      "dtype: int64\n",
      "Take a look at statical summury:\n",
      "             MedInc      HouseAge      AveRooms     AveBedrms    Population  \\\n",
      "count  20640.000000  20640.000000  20640.000000  20640.000000  20640.000000   \n",
      "mean       3.870671     28.639486      5.429000      1.096675   1425.476744   \n",
      "std        1.899822     12.585558      2.474173      0.473911   1132.462122   \n",
      "min        0.499900      1.000000      0.846154      0.333333      3.000000   \n",
      "25%        2.563400     18.000000      4.440716      1.006079    787.000000   \n",
      "50%        3.534800     29.000000      5.229129      1.048780   1166.000000   \n",
      "75%        4.743250     37.000000      6.052381      1.099526   1725.000000   \n",
      "max       15.000100     52.000000    141.909091     34.066667  35682.000000   \n",
      "\n",
      "           AveOccup      Latitude     Longitude   MedHouseVal        target  \n",
      "count  20640.000000  20640.000000  20640.000000  20640.000000  20640.000000  \n",
      "mean       3.070655     35.631861   -119.569704      2.068558      2.068558  \n",
      "std       10.386050      2.135952      2.003532      1.153956      1.153956  \n",
      "min        0.692308     32.540000   -124.350000      0.149990      0.149990  \n",
      "25%        2.429741     33.930000   -121.800000      1.196000      1.196000  \n",
      "50%        2.818116     34.260000   -118.490000      1.797000      1.797000  \n",
      "75%        3.282261     37.710000   -118.010000      2.647250      2.647250  \n",
      "max     1243.333333     41.950000   -114.310000      5.000010      5.000010  \n"
     ]
    }
   ],
   "source": [
    "housing = fetch_california_housing(as_frame=True)\n",
    "df = housing.frame\n",
    "df[\"target\"] = housing.target\n",
    "print('Visualising the first values of out dataframe:\\n{}\\n'.format(df.head()))\n",
    "\n",
    "print('Checking if there is any missing values:\\n{}\\n'.format(df.isnull().sum()))\n",
    "print('Take a look at statical summaries:\\n{}\\n'.format(df.describe()))"
   ]
  },
  {
   "cell_type": "code",
   "execution_count": null,
   "id": "2c970cf4-8947-4230-832b-6158960d8758",
   "metadata": {},
   "outputs": [],
   "source": []
  }
 ],
 "metadata": {
  "kernelspec": {
   "display_name": "Python 3 (ipykernel)",
   "language": "python",
   "name": "python3"
  },
  "language_info": {
   "codemirror_mode": {
    "name": "ipython",
    "version": 3
   },
   "file_extension": ".py",
   "mimetype": "text/x-python",
   "name": "python",
   "nbconvert_exporter": "python",
   "pygments_lexer": "ipython3",
   "version": "3.13.5"
  }
 },
 "nbformat": 4,
 "nbformat_minor": 5
}
